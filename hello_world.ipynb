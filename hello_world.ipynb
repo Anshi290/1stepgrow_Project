{
 "cells": [
  {
   "cell_type": "code",
   "execution_count": 1,
   "id": "7640a61b-303a-4101-a438-5f1f2feb60b3",
   "metadata": {},
   "outputs": [
    {
     "name": "stdout",
     "output_type": "stream",
     "text": [
      "hello_world\n"
     ]
    }
   ],
   "source": [
    "print(\"hello_world\")"
   ]
  },
  {
   "cell_type": "code",
   "execution_count": 2,
   "id": "a295ab7d-972e-4a1a-84ca-f8a4ff9769fc",
   "metadata": {},
   "outputs": [
    {
     "name": "stdout",
     "output_type": "stream",
     "text": [
      "40\n"
     ]
    }
   ],
   "source": [
    "i = 10\n",
    "j=30\n",
    "print(i+j)"
   ]
  },
  {
   "cell_type": "code",
   "execution_count": null,
   "id": "df2c1176-1331-4e76-afc7-ed2c775d5aba",
   "metadata": {},
   "outputs": [],
   "source": []
  }
 ],
 "metadata": {
  "kernelspec": {
   "display_name": "Python [conda env:base] *",
   "language": "python",
   "name": "conda-base-py"
  },
  "language_info": {
   "codemirror_mode": {
    "name": "ipython",
    "version": 3
   },
   "file_extension": ".py",
   "mimetype": "text/x-python",
   "name": "python",
   "nbconvert_exporter": "python",
   "pygments_lexer": "ipython3",
   "version": "3.13.5"
  }
 },
 "nbformat": 4,
 "nbformat_minor": 5
}
